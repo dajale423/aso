{
 "cells": [
  {
   "cell_type": "code",
   "execution_count": 1,
   "id": "d5b342c3",
   "metadata": {},
   "outputs": [],
   "source": [
    "import os\n",
    "import dask.dataframe as dd\n",
    "from dask.distributed import Client\n",
    "import pandas as pd\n",
    "\n",
    "import seaborn as sns\n",
    "import matplotlib.pyplot as plt\n",
    "\n",
    "pd.set_option('display.max_columns', None)\n",
    "\n",
    "pd_data_dir = \"/home/djl34/lab_pd/data\"\n",
    "KL_data_dir = \"/home/djl34/lab_pd/kl/data\"\n",
    "scratch_dir = \"/n/scratch3/users/d/djl34\""
   ]
  },
  {
   "cell_type": "code",
   "execution_count": 2,
   "id": "1813e010",
   "metadata": {},
   "outputs": [],
   "source": [
    "def calculate_length(position):\n",
    "    df_cutoff = df[(df[\"start\"] < position)]\n",
    "    \n",
    "    subtract = df_cutoff.iloc[-1][\"end\"] - position\n",
    "    \n",
    "    return df_cutoff[\"length\"].sum() - subtract\n",
    "    "
   ]
  },
  {
   "cell_type": "code",
   "execution_count": 8,
   "id": "6460b135",
   "metadata": {},
   "outputs": [],
   "source": [
    "chrom = 4\n",
    "split_number = 11\n",
    "\n",
    "df = pd.read_csv(scratch_dir + \"/downloads/whole_gene/\"+ str(chrom) +\"_regions_split_\" + str(split_number) + \".tsv\", sep = \"\\t\", names = [\"Chrom\", \"start\", \"end\"])\n",
    "df[\"length\"] = df[\"end\"] - df[\"start\"] + 1\n"
   ]
  },
  {
   "cell_type": "code",
   "execution_count": 12,
   "id": "fe5a446c",
   "metadata": {},
   "outputs": [
    {
     "data": {
      "text/plain": [
       "0.7860427070604447"
      ]
     },
     "execution_count": 12,
     "metadata": {},
     "output_type": "execute_result"
    }
   ],
   "source": [
    "calculate_length(15852639)/df[\"length\"].sum()"
   ]
  },
  {
   "cell_type": "markdown",
   "id": "d888c0eb",
   "metadata": {},
   "source": [
    "40% in 4 minutes when buffer size = 10000"
   ]
  },
  {
   "cell_type": "code",
   "execution_count": 40,
   "id": "1840c5a7",
   "metadata": {},
   "outputs": [
    {
     "data": {
      "text/html": [
       "<div>\n",
       "<style scoped>\n",
       "    .dataframe tbody tr th:only-of-type {\n",
       "        vertical-align: middle;\n",
       "    }\n",
       "\n",
       "    .dataframe tbody tr th {\n",
       "        vertical-align: top;\n",
       "    }\n",
       "\n",
       "    .dataframe thead th {\n",
       "        text-align: right;\n",
       "    }\n",
       "</style>\n",
       "<table border=\"1\" class=\"dataframe\">\n",
       "  <thead>\n",
       "    <tr style=\"text-align: right;\">\n",
       "      <th></th>\n",
       "      <th>Chrom</th>\n",
       "      <th>start</th>\n",
       "      <th>end</th>\n",
       "      <th>length</th>\n",
       "    </tr>\n",
       "  </thead>\n",
       "  <tbody>\n",
       "    <tr>\n",
       "      <th>0</th>\n",
       "      <td>7</td>\n",
       "      <td>123091098</td>\n",
       "      <td>123103589</td>\n",
       "      <td>12492</td>\n",
       "    </tr>\n",
       "    <tr>\n",
       "      <th>1</th>\n",
       "      <td>7</td>\n",
       "      <td>123113531</td>\n",
       "      <td>123199972</td>\n",
       "      <td>86442</td>\n",
       "    </tr>\n",
       "    <tr>\n",
       "      <th>2</th>\n",
       "      <td>7</td>\n",
       "      <td>123230120</td>\n",
       "      <td>123230741</td>\n",
       "      <td>622</td>\n",
       "    </tr>\n",
       "    <tr>\n",
       "      <th>3</th>\n",
       "      <td>7</td>\n",
       "      <td>123452193</td>\n",
       "      <td>123535077</td>\n",
       "      <td>82885</td>\n",
       "    </tr>\n",
       "    <tr>\n",
       "      <th>4</th>\n",
       "      <td>7</td>\n",
       "      <td>123456629</td>\n",
       "      <td>123459856</td>\n",
       "      <td>3228</td>\n",
       "    </tr>\n",
       "    <tr>\n",
       "      <th>5</th>\n",
       "      <td>7</td>\n",
       "      <td>123457988</td>\n",
       "      <td>123458094</td>\n",
       "      <td>107</td>\n",
       "    </tr>\n",
       "    <tr>\n",
       "      <th>6</th>\n",
       "      <td>7</td>\n",
       "      <td>123536997</td>\n",
       "      <td>123557904</td>\n",
       "      <td>20908</td>\n",
       "    </tr>\n",
       "    <tr>\n",
       "      <th>7</th>\n",
       "      <td>7</td>\n",
       "      <td>123567010</td>\n",
       "      <td>123639481</td>\n",
       "      <td>72472</td>\n",
       "    </tr>\n",
       "    <tr>\n",
       "      <th>8</th>\n",
       "      <td>7</td>\n",
       "      <td>123580881</td>\n",
       "      <td>123581440</td>\n",
       "      <td>560</td>\n",
       "    </tr>\n",
       "    <tr>\n",
       "      <th>9</th>\n",
       "      <td>7</td>\n",
       "      <td>123584859</td>\n",
       "      <td>123624957</td>\n",
       "      <td>40099</td>\n",
       "    </tr>\n",
       "    <tr>\n",
       "      <th>10</th>\n",
       "      <td>7</td>\n",
       "      <td>123655866</td>\n",
       "      <td>123664290</td>\n",
       "      <td>8425</td>\n",
       "    </tr>\n",
       "    <tr>\n",
       "      <th>11</th>\n",
       "      <td>7</td>\n",
       "      <td>123681943</td>\n",
       "      <td>123749003</td>\n",
       "      <td>67061</td>\n",
       "    </tr>\n",
       "    <tr>\n",
       "      <th>12</th>\n",
       "      <td>7</td>\n",
       "      <td>123749068</td>\n",
       "      <td>123751166</td>\n",
       "      <td>2099</td>\n",
       "    </tr>\n",
       "    <tr>\n",
       "      <th>13</th>\n",
       "      <td>7</td>\n",
       "      <td>123790605</td>\n",
       "      <td>123790711</td>\n",
       "      <td>107</td>\n",
       "    </tr>\n",
       "    <tr>\n",
       "      <th>14</th>\n",
       "      <td>7</td>\n",
       "      <td>123814139</td>\n",
       "      <td>123829252</td>\n",
       "      <td>15114</td>\n",
       "    </tr>\n",
       "    <tr>\n",
       "      <th>15</th>\n",
       "      <td>7</td>\n",
       "      <td>123828983</td>\n",
       "      <td>123877481</td>\n",
       "      <td>48499</td>\n",
       "    </tr>\n",
       "    <tr>\n",
       "      <th>16</th>\n",
       "      <td>7</td>\n",
       "      <td>123925237</td>\n",
       "      <td>123971414</td>\n",
       "      <td>46178</td>\n",
       "    </tr>\n",
       "    <tr>\n",
       "      <th>17</th>\n",
       "      <td>7</td>\n",
       "      <td>123932132</td>\n",
       "      <td>123932459</td>\n",
       "      <td>328</td>\n",
       "    </tr>\n",
       "    <tr>\n",
       "      <th>18</th>\n",
       "      <td>7</td>\n",
       "      <td>123994622</td>\n",
       "      <td>124027659</td>\n",
       "      <td>33038</td>\n",
       "    </tr>\n",
       "    <tr>\n",
       "      <th>19</th>\n",
       "      <td>7</td>\n",
       "      <td>124030921</td>\n",
       "      <td>124033067</td>\n",
       "      <td>2147</td>\n",
       "    </tr>\n",
       "    <tr>\n",
       "      <th>20</th>\n",
       "      <td>7</td>\n",
       "      <td>124032126</td>\n",
       "      <td>124489335</td>\n",
       "      <td>457210</td>\n",
       "    </tr>\n",
       "  </tbody>\n",
       "</table>\n",
       "</div>"
      ],
      "text/plain": [
       "    Chrom      start        end  length\n",
       "0       7  123091098  123103589   12492\n",
       "1       7  123113531  123199972   86442\n",
       "2       7  123230120  123230741     622\n",
       "3       7  123452193  123535077   82885\n",
       "4       7  123456629  123459856    3228\n",
       "5       7  123457988  123458094     107\n",
       "6       7  123536997  123557904   20908\n",
       "7       7  123567010  123639481   72472\n",
       "8       7  123580881  123581440     560\n",
       "9       7  123584859  123624957   40099\n",
       "10      7  123655866  123664290    8425\n",
       "11      7  123681943  123749003   67061\n",
       "12      7  123749068  123751166    2099\n",
       "13      7  123790605  123790711     107\n",
       "14      7  123814139  123829252   15114\n",
       "15      7  123828983  123877481   48499\n",
       "16      7  123925237  123971414   46178\n",
       "17      7  123932132  123932459     328\n",
       "18      7  123994622  124027659   33038\n",
       "19      7  124030921  124033067    2147\n",
       "20      7  124032126  124489335  457210"
      ]
     },
     "execution_count": 40,
     "metadata": {},
     "output_type": "execute_result"
    }
   ],
   "source": [
    "df"
   ]
  },
  {
   "cell_type": "code",
   "execution_count": 18,
   "id": "0dfcdda7",
   "metadata": {},
   "outputs": [
    {
     "data": {
      "text/plain": [
       "Chrom            1\n",
       "start     15334166\n",
       "end       15335464\n",
       "length        1299\n",
       "Name: 517, dtype: int64"
      ]
     },
     "execution_count": 18,
     "metadata": {},
     "output_type": "execute_result"
    }
   ],
   "source": [
    "df_cutoff = df[(df[\"start\"] < 15375087)]\n",
    "\n",
    "df_cutoff.iloc[-1]"
   ]
  },
  {
   "cell_type": "code",
   "execution_count": 12,
   "id": "7bdd27a7",
   "metadata": {},
   "outputs": [
    {
     "data": {
      "text/plain": [
       "0.7236045095954778"
      ]
     },
     "execution_count": 12,
     "metadata": {},
     "output_type": "execute_result"
    }
   ],
   "source": [
    "df[(df[\"start\"] < 15375087)][\"length\"].sum()/df[\"length\"].sum()"
   ]
  },
  {
   "cell_type": "markdown",
   "id": "2a7cc47a",
   "metadata": {},
   "source": [
    "72% done after ~ 7 hours\n",
    "\n",
    "Can estimate to take ~ 10 hours"
   ]
  },
  {
   "cell_type": "code",
   "execution_count": 13,
   "id": "ec9694c9",
   "metadata": {},
   "outputs": [
    {
     "data": {
      "text/plain": [
       "0.7795916414549348"
      ]
     },
     "execution_count": 13,
     "metadata": {},
     "output_type": "execute_result"
    }
   ],
   "source": [
    "df[(df[\"start\"] < 16411948)][\"length\"].sum()/df[\"length\"].sum()"
   ]
  },
  {
   "cell_type": "markdown",
   "id": "f0f68eeb",
   "metadata": {},
   "source": [
    "78% done after 8 hr 40 minutes"
   ]
  },
  {
   "cell_type": "code",
   "execution_count": 21,
   "id": "2b8edb36",
   "metadata": {},
   "outputs": [
    {
     "data": {
      "text/html": [
       "<div>\n",
       "<style scoped>\n",
       "    .dataframe tbody tr th:only-of-type {\n",
       "        vertical-align: middle;\n",
       "    }\n",
       "\n",
       "    .dataframe tbody tr th {\n",
       "        vertical-align: top;\n",
       "    }\n",
       "\n",
       "    .dataframe thead th {\n",
       "        text-align: right;\n",
       "    }\n",
       "</style>\n",
       "<table border=\"1\" class=\"dataframe\">\n",
       "  <thead>\n",
       "    <tr style=\"text-align: right;\">\n",
       "      <th></th>\n",
       "      <th>Chrom</th>\n",
       "      <th>start</th>\n",
       "      <th>end</th>\n",
       "      <th>length</th>\n",
       "    </tr>\n",
       "  </thead>\n",
       "  <tbody>\n",
       "    <tr>\n",
       "      <th>0</th>\n",
       "      <td>1</td>\n",
       "      <td>11869</td>\n",
       "      <td>14409</td>\n",
       "      <td>2541</td>\n",
       "    </tr>\n",
       "    <tr>\n",
       "      <th>1</th>\n",
       "      <td>1</td>\n",
       "      <td>12010</td>\n",
       "      <td>13670</td>\n",
       "      <td>1661</td>\n",
       "    </tr>\n",
       "    <tr>\n",
       "      <th>2</th>\n",
       "      <td>1</td>\n",
       "      <td>14404</td>\n",
       "      <td>29570</td>\n",
       "      <td>15167</td>\n",
       "    </tr>\n",
       "    <tr>\n",
       "      <th>3</th>\n",
       "      <td>1</td>\n",
       "      <td>17369</td>\n",
       "      <td>17436</td>\n",
       "      <td>68</td>\n",
       "    </tr>\n",
       "    <tr>\n",
       "      <th>4</th>\n",
       "      <td>1</td>\n",
       "      <td>29554</td>\n",
       "      <td>31109</td>\n",
       "      <td>1556</td>\n",
       "    </tr>\n",
       "    <tr>\n",
       "      <th>...</th>\n",
       "      <td>...</td>\n",
       "      <td>...</td>\n",
       "      <td>...</td>\n",
       "      <td>...</td>\n",
       "    </tr>\n",
       "    <tr>\n",
       "      <th>568</th>\n",
       "      <td>1</td>\n",
       "      <td>16241213</td>\n",
       "      <td>16241398</td>\n",
       "      <td>186</td>\n",
       "    </tr>\n",
       "    <tr>\n",
       "      <th>569</th>\n",
       "      <td>1</td>\n",
       "      <td>16246840</td>\n",
       "      <td>16352480</td>\n",
       "      <td>105641</td>\n",
       "    </tr>\n",
       "    <tr>\n",
       "      <th>570</th>\n",
       "      <td>1</td>\n",
       "      <td>16352575</td>\n",
       "      <td>16398145</td>\n",
       "      <td>45571</td>\n",
       "    </tr>\n",
       "    <tr>\n",
       "      <th>571</th>\n",
       "      <td>1</td>\n",
       "      <td>16369150</td>\n",
       "      <td>16369530</td>\n",
       "      <td>381</td>\n",
       "    </tr>\n",
       "    <tr>\n",
       "      <th>572</th>\n",
       "      <td>1</td>\n",
       "      <td>16387117</td>\n",
       "      <td>16437424</td>\n",
       "      <td>50308</td>\n",
       "    </tr>\n",
       "  </tbody>\n",
       "</table>\n",
       "<p>573 rows × 4 columns</p>\n",
       "</div>"
      ],
      "text/plain": [
       "     Chrom     start       end  length\n",
       "0        1     11869     14409    2541\n",
       "1        1     12010     13670    1661\n",
       "2        1     14404     29570   15167\n",
       "3        1     17369     17436      68\n",
       "4        1     29554     31109    1556\n",
       "..     ...       ...       ...     ...\n",
       "568      1  16241213  16241398     186\n",
       "569      1  16246840  16352480  105641\n",
       "570      1  16352575  16398145   45571\n",
       "571      1  16369150  16369530     381\n",
       "572      1  16387117  16437424   50308\n",
       "\n",
       "[573 rows x 4 columns]"
      ]
     },
     "execution_count": 21,
     "metadata": {},
     "output_type": "execute_result"
    }
   ],
   "source": [
    "df[(df[\"start\"] < 16411948)]"
   ]
  },
  {
   "cell_type": "code",
   "execution_count": null,
   "id": "7edf82f6",
   "metadata": {},
   "outputs": [],
   "source": []
  }
 ],
 "metadata": {
  "kernelspec": {
   "display_name": "Python 3 (ipykernel)",
   "language": "python",
   "name": "python3"
  },
  "language_info": {
   "codemirror_mode": {
    "name": "ipython",
    "version": 3
   },
   "file_extension": ".py",
   "mimetype": "text/x-python",
   "name": "python",
   "nbconvert_exporter": "python",
   "pygments_lexer": "ipython3",
   "version": "3.9.17"
  }
 },
 "nbformat": 4,
 "nbformat_minor": 5
}
