{
 "cells": [
  {
   "cell_type": "code",
   "execution_count": 3,
   "id": "b54ff2d3",
   "metadata": {},
   "outputs": [],
   "source": [
    "import os\n",
    "import dask.dataframe as dd\n",
    "from dask.distributed import Client\n",
    "import pandas as pd\n",
    "\n",
    "import seaborn as sns\n",
    "import matplotlib.pyplot as plt\n",
    "\n",
    "pd.set_option('display.max_columns', None)\n",
    "\n",
    "\n",
    "pd_data_dir = \"/home/djl34/lab_pd/data\"\n",
    "aso_data_dir = \"/home/djl34/lab_pd/aso/data\"\n",
    "KL_data_dir = \"/home/djl34/lab_pd/kl/data\"\n",
    "scratch_dir = \"/n/scratch3/users/d/djl34\""
   ]
  },
  {
   "cell_type": "code",
   "execution_count": 4,
   "id": "f1a658eb",
   "metadata": {},
   "outputs": [],
   "source": [
    "client = Client()"
   ]
  },
  {
   "cell_type": "code",
   "execution_count": 7,
   "id": "7cf46b9c",
   "metadata": {},
   "outputs": [],
   "source": [
    "filename = os.path.join(aso_data_dir, \"whole_gene/maxentscan/22/\")"
   ]
  },
  {
   "cell_type": "code",
   "execution_count": 8,
   "id": "1aabcbb9",
   "metadata": {},
   "outputs": [],
   "source": [
    "ddf = dd.read_parquet(filename)"
   ]
  },
  {
   "cell_type": "code",
   "execution_count": 10,
   "id": "d25cb6e3",
   "metadata": {},
   "outputs": [
    {
     "data": {
      "text/plain": [
       "70938690"
      ]
     },
     "execution_count": 10,
     "metadata": {},
     "output_type": "execute_result"
    }
   ],
   "source": [
    "len(ddf)"
   ]
  },
  {
   "cell_type": "code",
   "execution_count": 11,
   "id": "0e4d487c",
   "metadata": {},
   "outputs": [
    {
     "data": {
      "text/html": [
       "<div><strong>Dask DataFrame Structure:</strong></div>\n",
       "<div>\n",
       "<style scoped>\n",
       "    .dataframe tbody tr th:only-of-type {\n",
       "        vertical-align: middle;\n",
       "    }\n",
       "\n",
       "    .dataframe tbody tr th {\n",
       "        vertical-align: top;\n",
       "    }\n",
       "\n",
       "    .dataframe thead th {\n",
       "        text-align: right;\n",
       "    }\n",
       "</style>\n",
       "<table border=\"1\" class=\"dataframe\">\n",
       "  <thead>\n",
       "    <tr style=\"text-align: right;\">\n",
       "      <th></th>\n",
       "      <th>CHROM</th>\n",
       "      <th>Pos</th>\n",
       "      <th>Allele_ref</th>\n",
       "      <th>Allele</th>\n",
       "      <th>Consequence</th>\n",
       "      <th>Gene</th>\n",
       "      <th>Feature</th>\n",
       "      <th>MaxEntScan_alt</th>\n",
       "      <th>MaxEntScan_diff</th>\n",
       "      <th>MaxEntScan_ref</th>\n",
       "    </tr>\n",
       "    <tr>\n",
       "      <th>npartitions=69</th>\n",
       "      <th></th>\n",
       "      <th></th>\n",
       "      <th></th>\n",
       "      <th></th>\n",
       "      <th></th>\n",
       "      <th></th>\n",
       "      <th></th>\n",
       "      <th></th>\n",
       "      <th></th>\n",
       "      <th></th>\n",
       "    </tr>\n",
       "  </thead>\n",
       "  <tbody>\n",
       "    <tr>\n",
       "      <th></th>\n",
       "      <td>int64</td>\n",
       "      <td>int64</td>\n",
       "      <td>object</td>\n",
       "      <td>object</td>\n",
       "      <td>object</td>\n",
       "      <td>object</td>\n",
       "      <td>object</td>\n",
       "      <td>object</td>\n",
       "      <td>object</td>\n",
       "      <td>object</td>\n",
       "    </tr>\n",
       "    <tr>\n",
       "      <th></th>\n",
       "      <td>...</td>\n",
       "      <td>...</td>\n",
       "      <td>...</td>\n",
       "      <td>...</td>\n",
       "      <td>...</td>\n",
       "      <td>...</td>\n",
       "      <td>...</td>\n",
       "      <td>...</td>\n",
       "      <td>...</td>\n",
       "      <td>...</td>\n",
       "    </tr>\n",
       "    <tr>\n",
       "      <th>...</th>\n",
       "      <td>...</td>\n",
       "      <td>...</td>\n",
       "      <td>...</td>\n",
       "      <td>...</td>\n",
       "      <td>...</td>\n",
       "      <td>...</td>\n",
       "      <td>...</td>\n",
       "      <td>...</td>\n",
       "      <td>...</td>\n",
       "      <td>...</td>\n",
       "    </tr>\n",
       "    <tr>\n",
       "      <th></th>\n",
       "      <td>...</td>\n",
       "      <td>...</td>\n",
       "      <td>...</td>\n",
       "      <td>...</td>\n",
       "      <td>...</td>\n",
       "      <td>...</td>\n",
       "      <td>...</td>\n",
       "      <td>...</td>\n",
       "      <td>...</td>\n",
       "      <td>...</td>\n",
       "    </tr>\n",
       "    <tr>\n",
       "      <th></th>\n",
       "      <td>...</td>\n",
       "      <td>...</td>\n",
       "      <td>...</td>\n",
       "      <td>...</td>\n",
       "      <td>...</td>\n",
       "      <td>...</td>\n",
       "      <td>...</td>\n",
       "      <td>...</td>\n",
       "      <td>...</td>\n",
       "      <td>...</td>\n",
       "    </tr>\n",
       "  </tbody>\n",
       "</table>\n",
       "</div>\n",
       "<div>Dask Name: read-parquet, 1 graph layer</div>"
      ],
      "text/plain": [
       "Dask DataFrame Structure:\n",
       "                CHROM    Pos Allele_ref  Allele Consequence    Gene Feature MaxEntScan_alt MaxEntScan_diff MaxEntScan_ref\n",
       "npartitions=69                                                                                                           \n",
       "                int64  int64     object  object      object  object  object         object          object         object\n",
       "                  ...    ...        ...     ...         ...     ...     ...            ...             ...            ...\n",
       "...               ...    ...        ...     ...         ...     ...     ...            ...             ...            ...\n",
       "                  ...    ...        ...     ...         ...     ...     ...            ...             ...            ...\n",
       "                  ...    ...        ...     ...         ...     ...     ...            ...             ...            ...\n",
       "Dask Name: read-parquet, 1 graph layer"
      ]
     },
     "execution_count": 11,
     "metadata": {},
     "output_type": "execute_result"
    }
   ],
   "source": [
    "ddf"
   ]
  },
  {
   "cell_type": "code",
   "execution_count": null,
   "id": "387801ad",
   "metadata": {},
   "outputs": [],
   "source": []
  }
 ],
 "metadata": {
  "kernelspec": {
   "display_name": "Python 3 (ipykernel)",
   "language": "python",
   "name": "python3"
  },
  "language_info": {
   "codemirror_mode": {
    "name": "ipython",
    "version": 3
   },
   "file_extension": ".py",
   "mimetype": "text/x-python",
   "name": "python",
   "nbconvert_exporter": "python",
   "pygments_lexer": "ipython3",
   "version": "3.9.17"
  }
 },
 "nbformat": 4,
 "nbformat_minor": 5
}
